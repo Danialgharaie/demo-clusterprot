{
 "cells": [
  {
   "cell_type": "code",
   "execution_count": 1,
   "metadata": {},
   "outputs": [],
   "source": [
    "import os\n",
    "import subprocess\n",
    "import re\n",
    "import csv"
   ]
  },
  {
   "cell_type": "code",
   "execution_count": 2,
   "metadata": {},
   "outputs": [
    {
     "name": "stdout",
     "output_type": "stream",
     "text": [
      "--2025-06-11 22:24:27--  https://zhanggroup.org/US-align/bin/module/USalign.cpp\n",
      "Loaded CA certificate '/etc/ssl/certs/ca-certificates.crt'\n",
      "Resolving zhanggroup.org (zhanggroup.org)... 137.132.93.250\n",
      "Connecting to zhanggroup.org (zhanggroup.org)|137.132.93.250|:443... connected.\n",
      "HTTP request sent, awaiting response... 200 OK\n",
      "Length: 727450 (710K) [text/plain]\n",
      "Saving to: ‘USalign.cpp’\n",
      "\n",
      "USalign.cpp         100%[===================>] 710.40K   281KB/s    in 2.5s    \n",
      "\n",
      "2025-06-11 22:24:32 (281 KB/s) - ‘USalign.cpp’ saved [727450/727450]\n",
      "\n"
     ]
    }
   ],
   "source": [
    "# Download and compile USalign\n",
    "!wget https://zhanggroup.org/US-align/bin/module/USalign.cpp\n",
    "!g++ -static -O3 -ffast-math -lm -o USalign USalign.cpp\n",
    "!chmod +x USalign"
   ]
  },
  {
   "cell_type": "code",
   "execution_count": 3,
   "metadata": {},
   "outputs": [],
   "source": [
    "!unzip pdbs.zip > /dev/null"
   ]
  },
  {
   "cell_type": "code",
   "execution_count": 4,
   "metadata": {},
   "outputs": [],
   "source": [
    "# Directory containing the pdb files\n",
    "input_directory = \"./pdbs\"\n",
    "# Reference pdb file\n",
    "reference_file = \"ref.pdb\"\n",
    "# Output CSV file\n",
    "output_csv = \"usalign_results.csv\""
   ]
  },
  {
   "cell_type": "code",
   "execution_count": 6,
   "metadata": {},
   "outputs": [
    {
     "name": "stdout",
     "output_type": "stream",
     "text": [
      "Results written to usalign_results.csv\n"
     ]
    }
   ],
   "source": [
    "# Define the regex patterns for RMSD and TM-score\n",
    "rmsd_pattern = re.compile(r\"RMSD=\\s+([\\d.]+)\")\n",
    "tm_score_pattern = re.compile(r\"TM-score=\\s+([\\d.]+)\")\n",
    "rank_pattern = re.compile(r\"rank_\\d+_rank_1\\.pdb\")\n",
    "\n",
    "# Initialize a list to store the results\n",
    "results = []\n",
    "# Iterate through each file in the directory\n",
    "for filename in os.listdir(input_directory):\n",
    "    if not rank_pattern.match(filename):\n",
    "        continue\n",
    "\n",
    "    mpnn_rank = rank_pattern.search(filename).group(0)\n",
    "    file_path = os.path.join(input_directory, filename)\n",
    "\n",
    "    # Check if it's a file\n",
    "    if os.path.isfile(file_path):\n",
    "        try:\n",
    "            # Run USalign command\n",
    "            result = subprocess.run(\n",
    "                [\"./USalign\", file_path, reference_file],\n",
    "                capture_output=True,\n",
    "                text=True,\n",
    "                check=True,\n",
    "            )\n",
    "            output = result.stdout\n",
    "\n",
    "            # Extract RMSD and TM-score using regex\n",
    "            rmsd_match = rmsd_pattern.search(output)\n",
    "            tm_score_match = tm_score_pattern.search(output)\n",
    "\n",
    "            # If both RMSD and TM-score were found, add to results\n",
    "            if rmsd_match and tm_score_match:\n",
    "                rmsd = rmsd_match.group(1)\n",
    "                tm_score = tm_score_match.group(1)\n",
    "                results.append([mpnn_rank, rmsd, tm_score])\n",
    "            else:\n",
    "                print(f\"Warning: Could not parse output for file {filename}\")\n",
    "\n",
    "        except subprocess.CalledProcessError as e:\n",
    "            print(f\"Error processing file {filename}: {e}\")\n",
    "\n",
    "# Write the results to a CSV file\n",
    "with open(output_csv, mode=\"w\", newline=\"\") as csv_file:\n",
    "    writer = csv.writer(csv_file)\n",
    "    writer.writerow([\"ProteinMPNN Rank\", \"RMSD\", \"TM-Score\"])\n",
    "    writer.writerows(results)\n",
    "\n",
    "print(f\"Results written to {output_csv}\")"
   ]
  }
 ],
 "metadata": {
  "kernelspec": {
   "display_name": "base",
   "language": "python",
   "name": "python3"
  },
  "language_info": {
   "codemirror_mode": {
    "name": "ipython",
    "version": 3
   },
   "file_extension": ".py",
   "mimetype": "text/x-python",
   "name": "python",
   "nbconvert_exporter": "python",
   "pygments_lexer": "ipython3",
   "version": "3.12.3"
  }
 },
 "nbformat": 4,
 "nbformat_minor": 2
}
