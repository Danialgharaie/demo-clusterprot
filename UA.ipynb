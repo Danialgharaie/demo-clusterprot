{
 "cells": [
  {
   "cell_type": "code",
   "execution_count": null,
   "metadata": {},
   "outputs": [],
   "source": [
    "import os\n",
    "import subprocess\n",
    "import re\n",
    "import csv\n",
    "\n",
    "# Directory containing the pdb files\n",
    "input_directory = \"./pdbs\"\n",
    "# Reference pdb file\n",
    "reference_file = \"ref.pdb\"\n",
    "# Output CSV file\n",
    "output_csv = \"usalign_results.csv\"\n",
    "\n",
    "# Define the regex patterns for RMSD and TM-score\n",
    "rmsd_pattern = re.compile(r'RMSD=\\s+([\\d.]+)')\n",
    "tm_score_pattern = re.compile(r'TM-score=\\s+([\\d.]+)')\n",
    "\n",
    "# Initialize a list to store the results\n",
    "results = []\n",
    "# Iterate through each file in the directory\n",
    "for filename in os.listdir(input_directory):\n",
    "    file_path = os.path.join(input_directory, filename)\n",
    "    \n",
    "    # Check if it's a file\n",
    "    if os.path.isfile(file_path):\n",
    "        try:\n",
    "            # Run USalign command\n",
    "            result = subprocess.run(\n",
    "                [\"USalign\", file_path, reference_file],\n",
    "                capture_output=True, text=True, check=True\n",
    "            )\n",
    "            output = result.stdout\n",
    "            \n",
    "            # Extract RMSD and TM-score using regex\n",
    "            rmsd_match = rmsd_pattern.search(output)\n",
    "            tm_score_match = tm_score_pattern.search(output)\n",
    "            \n",
    "            # If both RMSD and TM-score were found, add to results\n",
    "            if rmsd_match and tm_score_match:\n",
    "                rmsd = rmsd_match.group(1)\n",
    "                tm_score = tm_score_match.group(1)\n",
    "                results.append([filename, rmsd, tm_score])\n",
    "            else:\n",
    "                print(f\"Warning: Could not parse output for file {filename}\")\n",
    "        \n",
    "        except subprocess.CalledProcessError as e:\n",
    "            print(f\"Error processing file {filename}: {e}\")\n",
    "\n",
    "# Write the results to a CSV file\n",
    "with open(output_csv, mode='w', newline='') as csv_file:\n",
    "    writer = csv.writer(csv_file)\n",
    "    writer.writerow([\"File Name\", \"RMSD\", \"TM-Score\"])\n",
    "    writer.writerows(results)\n",
    "\n",
    "print(f\"Results written to {output_csv}\")\n"
   ]
  }
 ],
 "metadata": {
  "kernelspec": {
   "display_name": "base",
   "language": "python",
   "name": "python3"
  },
  "language_info": {
   "codemirror_mode": {
    "name": "ipython",
    "version": 3
   },
   "file_extension": ".py",
   "mimetype": "text/x-python",
   "name": "python",
   "nbconvert_exporter": "python",
   "pygments_lexer": "ipython3",
   "version": "3.12.5"
  }
 },
 "nbformat": 4,
 "nbformat_minor": 2
}
